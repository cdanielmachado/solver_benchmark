{
 "cells": [
  {
   "cell_type": "code",
   "execution_count": null,
   "id": "03ffdfff-9a84-4d48-8342-9c1d889fe51e",
   "metadata": {
    "tags": []
   },
   "outputs": [],
   "source": [
    "import pandas as pd\n",
    "import seaborn as sns\n",
    "import numpy as np\n",
    "import matplotlib.pyplot as plt\n",
    "from reframed import load_cbmodel"
   ]
  },
  {
   "cell_type": "markdown",
   "id": "7326c7ad-f862-4b42-a411-908ff426857a",
   "metadata": {
    "tags": []
   },
   "source": [
    "## Main results"
   ]
  },
  {
   "cell_type": "code",
   "execution_count": null,
   "id": "36bfd52c-8926-41d4-b2e0-c8c6db6c7e9e",
   "metadata": {
    "tags": []
   },
   "outputs": [],
   "source": [
    "df = pd.read_csv('../results/results_local.tsv', sep='\\t', na_values='None')\n",
    "df = df.dropna().query('test == \"LP\"')"
   ]
  },
  {
   "cell_type": "code",
   "execution_count": null,
   "id": "1832ca13",
   "metadata": {
    "tags": []
   },
   "outputs": [],
   "source": [
    "models = {x: load_cbmodel(f'../models/{x}.xml.gz', flavor='bigg') for x in set(df['model'])}\n",
    "lp_sizes = {x: len(models[x].reactions) for x in models}\n",
    "df['size_lp'] = df['model'].apply(lambda x: lp_sizes[x])"
   ]
  },
  {
   "cell_type": "code",
   "execution_count": null,
   "id": "df6b6e35",
   "metadata": {
    "tags": []
   },
   "outputs": [],
   "source": [
    "solver_name = {\n",
    "    'CPLEX_PY': 'cplex',\n",
    "    'GUROBI': 'gurobi',\n",
    "    'SCIP_CMD': 'scip',\n",
    "    'HiGHS_CMD': 'highs',\n",
    "    'GLPK_CMD': 'glpk',\n",
    "    'COIN_CMD': 'coin',\n",
    "\n",
    "}\n",
    "df['solver'] = df['interface'].apply(lambda x: solver_name[x])"
   ]
  },
  {
   "cell_type": "code",
   "execution_count": null,
   "id": "c1100698-4573-4fed-8b62-f828ab7234a7",
   "metadata": {},
   "outputs": [],
   "source": [
    "df2 = pd.read_csv('../results/community_simulation.csv')\n",
    "df2['solver'] = df2['interface'].apply(lambda x: solver_name[x])"
   ]
  },
  {
   "cell_type": "code",
   "execution_count": null,
   "id": "7b2edad3",
   "metadata": {
    "tags": []
   },
   "outputs": [],
   "source": [
    "f, (ax1, ax2) = plt.subplots(1, 2, figsize=(12, 5))\n",
    "\n",
    "sns.lineplot(data=df.dropna().query('test == \"LP\"'), x=\"size_lp\", y=\"time\", hue=\"solver\",  ax=ax1, estimator=\"median\", errorbar=(\"pi\", 50))\n",
    "\n",
    "ax1.set_xscale('log')\n",
    "ax1.set_yscale('log')\n",
    "ax1.set_xticks(list(lp_sizes.values()))\n",
    "ax1.set_xticklabels(list(lp_sizes.values()))\n",
    "ax1.set_xlabel('model size (# reactions)')\n",
    "ax1.set_ylabel('time (sec)')\n",
    "ax1.legend(loc=2, frameon=False)\n",
    "ax1.set_title('a) single species FBA')\n",
    "\n",
    "sns.lineplot(data=df2, x=\"size\", y=\"time\", hue=\"solver\", ax=ax2, estimator=\"median\", errorbar=(\"pi\", 50))\n",
    "\n",
    "ax2.set_yscale('log')\n",
    "ax2.set_xticks(range(1,21))\n",
    "ax2.set_xlabel('\\ncommunity size (# members)')\n",
    "ax2.set_ylabel('time (sec)')\n",
    "ax2.legend(loc=2, frameon=False)\n",
    "ax2.set_title('b) microbial communities')\n",
    "\n",
    "f.tight_layout()\n",
    "f.savefig('../figures/results_lp.tiff', dpi=300)"
   ]
  },
  {
   "cell_type": "markdown",
   "id": "ef81cba9-bc7b-47d0-b1db-b2487f654f9f",
   "metadata": {},
   "source": [
    "## Compare LP methods (single species)"
   ]
  },
  {
   "cell_type": "code",
   "execution_count": null,
   "id": "e1cb5a76-7595-4764-9b7f-af7e38d63058",
   "metadata": {
    "tags": []
   },
   "outputs": [],
   "source": [
    "df3 = pd.read_csv('../results/lp_methods.tsv', sep='\\t', na_values='None')\n",
    "df3 = df3.query('interface != \"SCIP_CMD\" or lpmethod != \"barrier\"')\n",
    "df3['size_lp'] = df3['model'].apply(lambda x: lp_sizes[x])\n",
    "df3['solver'] = df3['interface'].apply(lambda x: solver_name[x])"
   ]
  },
  {
   "cell_type": "code",
   "execution_count": null,
   "id": "e38ac278-c7f2-47e2-b4eb-e4158327151f",
   "metadata": {
    "tags": []
   },
   "outputs": [],
   "source": [
    "grid = sns.relplot(data=df3, kind='line', x=\"size_lp\", y=\"time\", col='solver', col_wrap=3, hue='solver', style='lpmethod', facet_kws={'sharey': False}, height=4, estimator=\"median\", errorbar=(\"pi\", 50))\n",
    "grid.set(yscale = 'log', xscale = 'log', xlabel='model size')\n",
    "#plt.savefig('../figures/lpmethods.tiff', dpi=300)"
   ]
  },
  {
   "cell_type": "markdown",
   "id": "aa77490f-0d3f-4a32-8aff-b942a8ec4ebc",
   "metadata": {},
   "source": [
    "## Compare LP method (communities)"
   ]
  },
  {
   "cell_type": "code",
   "execution_count": null,
   "id": "62595c6c-7a06-4004-9fc0-f9d2a14ac3a2",
   "metadata": {
    "tags": []
   },
   "outputs": [],
   "source": [
    "df4 = pd.read_csv('../results/community_lpmethod.tsv', sep='\\t', na_values='None')\n",
    "df4 = df4.query('interface != \"SCIP_CMD\" or lpmethod != \"barrier\"')\n",
    "df4['solver'] = df4['interface'].apply(lambda x: solver_name[x])"
   ]
  },
  {
   "cell_type": "code",
   "execution_count": null,
   "id": "b2fe0622-00f9-47f2-be10-2f53adb9e1b6",
   "metadata": {
    "tags": []
   },
   "outputs": [],
   "source": [
    "grid = sns.relplot(data=df4, kind='line', x=\"size\", y=\"time\", col='solver', col_wrap=3, hue='solver', style='lpmethod', \n",
    "                   facet_kws={'sharey': False}, estimator=\"median\", errorbar=(\"pi\", 50), height=4)\n",
    "grid.set(yscale = 'log',  xlabel='community size', ylabel='time (sec)')\n",
    "\n",
    "#plt.savefig('../figures/lpmethods_community.tiff', dpi=300)"
   ]
  },
  {
   "cell_type": "code",
   "execution_count": null,
   "id": "e17ed94d-836c-4f7d-9fd6-4b42d9eff0be",
   "metadata": {},
   "outputs": [],
   "source": []
  }
 ],
 "metadata": {
  "kernelspec": {
   "display_name": "Python 3 (ipykernel)",
   "language": "python",
   "name": "python3"
  },
  "language_info": {
   "codemirror_mode": {
    "name": "ipython",
    "version": 3
   },
   "file_extension": ".py",
   "mimetype": "text/x-python",
   "name": "python",
   "nbconvert_exporter": "python",
   "pygments_lexer": "ipython3",
   "version": "3.10.0"
  },
  "vscode": {
   "interpreter": {
    "hash": "8314287f8d98a042d0c3971ac79920fe6cc914650a031bb6e91b6d830c04a136"
   }
  }
 },
 "nbformat": 4,
 "nbformat_minor": 5
}
